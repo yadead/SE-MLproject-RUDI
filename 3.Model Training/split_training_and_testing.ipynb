{
 "cells": [
  {
   "cell_type": "code",
   "execution_count": 11,
   "metadata": {},
   "outputs": [],
   "source": [
    "import pandas as pd\n",
    "from sklearn.model_selection import train_test_split"
   ]
  },
  {
   "cell_type": "code",
   "execution_count": 12,
   "metadata": {},
   "outputs": [],
   "source": [
    "# Create a data frame from the csv file\n",
    "data = pd.read_csv('model_ready_data.csv')\n",
    "\n",
    "# Split the data into training and testing data\n",
    "training_data, testing_data = train_test_split(data, test_size=0.25)\n",
    "\n",
    "# Save the training and testing data to csv files\n",
    "training_data.to_csv('training_data.csv', index=False)\n",
    "testing_data.to_csv('../4.Model Testing and Validation/testing_data.csv', index=False)"
   ]
  }
 ],
 "metadata": {
  "kernelspec": {
   "display_name": "Python 3",
   "language": "python",
   "name": "python3"
  },
  "language_info": {
   "codemirror_mode": {
    "name": "ipython",
    "version": 3
   },
   "file_extension": ".py",
   "mimetype": "text/x-python",
   "name": "python",
   "nbconvert_exporter": "python",
   "pygments_lexer": "ipython3",
   "version": "3.12.1"
  }
 },
 "nbformat": 4,
 "nbformat_minor": 2
}
