{
 "cells": [
  {
   "cell_type": "code",
   "execution_count": 159,
   "metadata": {},
   "outputs": [],
   "source": [
    "import numpy as np\n",
    "import pandas as pd\n",
    "import matplotlib.pyplot as plt\n",
    "from sklearn.preprocessing import MinMaxScaler\n"
   ]
  },
  {
   "cell_type": "code",
   "execution_count": 160,
   "metadata": {},
   "outputs": [],
   "source": [
    "data_frame = pd.read_csv(\"rb_ranks_1.csv\")\n",
    "\n",
    "\n",
    "Filtered_df = data_frame[\n",
    "(data_frame['nation'] == 'USSR') &\n",
    "(data_frame['rb_lower_br'] == 11.3) &\n",
    "(data_frame['cls'] == \"Ground_vehicles\") &\n",
    "(data_frame['rb_win_rate'] > 5)\n",
    "]\n"
   ]
  },
  {
   "cell_type": "code",
   "execution_count": 161,
   "metadata": {},
   "outputs": [
    {
     "data": {
      "text/plain": [
       "nation                        0\n",
       "cls                           0\n",
       "date                          0\n",
       "rb_br                         0\n",
       "rb_lower_br                   0\n",
       "rb_battles_sum                0\n",
       "rb_battles_mean               0\n",
       "rb_win_rate                   0\n",
       "rb_air_frags_per_battle       0\n",
       "rb_air_frags_per_death        0\n",
       "rb_ground_frags_per_battle    0\n",
       "rb_ground_frags_per_death     0\n",
       "dtype: int64"
      ]
     },
     "execution_count": 161,
     "metadata": {},
     "output_type": "execute_result"
    }
   ],
   "source": [
    "Filtered_df.isnull().sum()"
   ]
  },
  {
   "cell_type": "code",
   "execution_count": 162,
   "metadata": {},
   "outputs": [
    {
     "name": "stdout",
     "output_type": "stream",
     "text": [
      "count    226.000000\n",
      "mean      59.338331\n",
      "std        6.257538\n",
      "min       45.261091\n",
      "25%       54.737094\n",
      "50%       60.094231\n",
      "75%       63.233940\n",
      "max       72.676806\n",
      "Name: rb_win_rate, dtype: float64\n",
      "Outliers are a rb_win_rate above 75.97920874559574 or below 41.99182462875799\n"
     ]
    }
   ],
   "source": [
    "print(Filtered_df['rb_win_rate'].describe())\n",
    "Q1 = Filtered_df['rb_win_rate'].quantile(0.25)\n",
    "Q3 = Filtered_df['rb_win_rate'].quantile(0.75)\n",
    "IQR = Q3 - Q1\n",
    "print(f'Outliers are a rb_win_rate above {Q3 + IQR * 1.5} or below {Q1 - IQR * 1.5}')\n"
   ]
  },
  {
   "cell_type": "code",
   "execution_count": 163,
   "metadata": {},
   "outputs": [
    {
     "name": "stderr",
     "output_type": "stream",
     "text": [
      "/tmp/ipykernel_11114/3379133514.py:5: SettingWithCopyWarning: \n",
      "A value is trying to be set on a copy of a slice from a DataFrame.\n",
      "Try using .loc[row_indexer,col_indexer] = value instead\n",
      "\n",
      "See the caveats in the documentation: https://pandas.pydata.org/pandas-docs/stable/user_guide/indexing.html#returning-a-view-versus-a-copy\n",
      "  Filtered_df [scale_feature] = [X / 100 for X in Filtered_df[scale_feature]]\n"
     ]
    },
    {
     "data": {
      "application/vnd.microsoft.datawrangler.viewer.v0+json": {
       "columns": [
        {
         "name": "index",
         "rawType": "object",
         "type": "string"
        },
        {
         "name": "rb_lower_br",
         "rawType": "float64",
         "type": "float"
        },
        {
         "name": "rb_battles_sum",
         "rawType": "float64",
         "type": "float"
        },
        {
         "name": "rb_battles_mean",
         "rawType": "float64",
         "type": "float"
        },
        {
         "name": "rb_win_rate",
         "rawType": "float64",
         "type": "float"
        },
        {
         "name": "rb_air_frags_per_battle",
         "rawType": "float64",
         "type": "float"
        },
        {
         "name": "rb_air_frags_per_death",
         "rawType": "float64",
         "type": "float"
        },
        {
         "name": "rb_ground_frags_per_battle",
         "rawType": "float64",
         "type": "float"
        },
        {
         "name": "rb_ground_frags_per_death",
         "rawType": "float64",
         "type": "float"
        }
       ],
       "conversionMethod": "pd.DataFrame",
       "ref": "077404d4-88e4-4fe6-873d-1ca6b3c85727",
       "rows": [
        [
         "count",
         "226.0",
         "226.0",
         "226.0",
         "226.0",
         "226.0",
         "226.0",
         "226.0",
         "226.0"
        ],
        [
         "mean",
         "11.3",
         "39563.76991150442",
         "9110.399351448359",
         "0.5933833056768334",
         "0.12311436220985177",
         "0.13698420067799194",
         "1.7056825409571832",
         "1.6120066386402578"
        ],
        [
         "std",
         "0.0",
         "12322.14744236038",
         "5149.271590948712",
         "0.06257537963350782",
         "0.0518829229451501",
         "0.05922961518532145",
         "0.15357756821572466",
         "0.17352713247434784"
        ],
        [
         "min",
         "11.3",
         "19216.0",
         "3628.551267749177",
         "0.4526109055452773",
         "0.0",
         "0.0",
         "1.4318232118156264",
         "1.3015672450289182"
        ],
        [
         "25%",
         "11.3",
         "30456.75",
         "5574.496767073875",
         "0.5473709367257215",
         "0.12498531778939621",
         "0.13404125517121604",
         "1.614641962787198",
         "1.5028168881588704"
        ],
        [
         "50%",
         "11.3",
         "37674.0",
         "7951.919885946486",
         "0.600942310445902",
         "0.1368394699387479",
         "0.15355417392752804",
         "1.692229591499058",
         "1.5926340879683698"
        ],
        [
         "75%",
         "11.3",
         "48872.25",
         "10080.59200238053",
         "0.6323393970178157",
         "0.14905347266611263",
         "0.1639592098160787",
         "1.7658875523201945",
         "1.6700622808213086"
        ],
        [
         "max",
         "11.3",
         "71790.0",
         "27207.0",
         "0.7267680583633649",
         "0.2032015377394336",
         "0.2312666508344308",
         "2.1",
         "2.1"
        ]
       ],
       "shape": {
        "columns": 8,
        "rows": 8
       }
      },
      "text/html": [
       "<div>\n",
       "<style scoped>\n",
       "    .dataframe tbody tr th:only-of-type {\n",
       "        vertical-align: middle;\n",
       "    }\n",
       "\n",
       "    .dataframe tbody tr th {\n",
       "        vertical-align: top;\n",
       "    }\n",
       "\n",
       "    .dataframe thead th {\n",
       "        text-align: right;\n",
       "    }\n",
       "</style>\n",
       "<table border=\"1\" class=\"dataframe\">\n",
       "  <thead>\n",
       "    <tr style=\"text-align: right;\">\n",
       "      <th></th>\n",
       "      <th>rb_lower_br</th>\n",
       "      <th>rb_battles_sum</th>\n",
       "      <th>rb_battles_mean</th>\n",
       "      <th>rb_win_rate</th>\n",
       "      <th>rb_air_frags_per_battle</th>\n",
       "      <th>rb_air_frags_per_death</th>\n",
       "      <th>rb_ground_frags_per_battle</th>\n",
       "      <th>rb_ground_frags_per_death</th>\n",
       "    </tr>\n",
       "  </thead>\n",
       "  <tbody>\n",
       "    <tr>\n",
       "      <th>count</th>\n",
       "      <td>226.0</td>\n",
       "      <td>226.000000</td>\n",
       "      <td>226.000000</td>\n",
       "      <td>226.000000</td>\n",
       "      <td>226.000000</td>\n",
       "      <td>226.000000</td>\n",
       "      <td>226.000000</td>\n",
       "      <td>226.000000</td>\n",
       "    </tr>\n",
       "    <tr>\n",
       "      <th>mean</th>\n",
       "      <td>11.3</td>\n",
       "      <td>39563.769912</td>\n",
       "      <td>9110.399351</td>\n",
       "      <td>0.593383</td>\n",
       "      <td>0.123114</td>\n",
       "      <td>0.136984</td>\n",
       "      <td>1.705683</td>\n",
       "      <td>1.612007</td>\n",
       "    </tr>\n",
       "    <tr>\n",
       "      <th>std</th>\n",
       "      <td>0.0</td>\n",
       "      <td>12322.147442</td>\n",
       "      <td>5149.271591</td>\n",
       "      <td>0.062575</td>\n",
       "      <td>0.051883</td>\n",
       "      <td>0.059230</td>\n",
       "      <td>0.153578</td>\n",
       "      <td>0.173527</td>\n",
       "    </tr>\n",
       "    <tr>\n",
       "      <th>min</th>\n",
       "      <td>11.3</td>\n",
       "      <td>19216.000000</td>\n",
       "      <td>3628.551268</td>\n",
       "      <td>0.452611</td>\n",
       "      <td>0.000000</td>\n",
       "      <td>0.000000</td>\n",
       "      <td>1.431823</td>\n",
       "      <td>1.301567</td>\n",
       "    </tr>\n",
       "    <tr>\n",
       "      <th>25%</th>\n",
       "      <td>11.3</td>\n",
       "      <td>30456.750000</td>\n",
       "      <td>5574.496767</td>\n",
       "      <td>0.547371</td>\n",
       "      <td>0.124985</td>\n",
       "      <td>0.134041</td>\n",
       "      <td>1.614642</td>\n",
       "      <td>1.502817</td>\n",
       "    </tr>\n",
       "    <tr>\n",
       "      <th>50%</th>\n",
       "      <td>11.3</td>\n",
       "      <td>37674.000000</td>\n",
       "      <td>7951.919886</td>\n",
       "      <td>0.600942</td>\n",
       "      <td>0.136839</td>\n",
       "      <td>0.153554</td>\n",
       "      <td>1.692230</td>\n",
       "      <td>1.592634</td>\n",
       "    </tr>\n",
       "    <tr>\n",
       "      <th>75%</th>\n",
       "      <td>11.3</td>\n",
       "      <td>48872.250000</td>\n",
       "      <td>10080.592002</td>\n",
       "      <td>0.632339</td>\n",
       "      <td>0.149053</td>\n",
       "      <td>0.163959</td>\n",
       "      <td>1.765888</td>\n",
       "      <td>1.670062</td>\n",
       "    </tr>\n",
       "    <tr>\n",
       "      <th>max</th>\n",
       "      <td>11.3</td>\n",
       "      <td>71790.000000</td>\n",
       "      <td>27207.000000</td>\n",
       "      <td>0.726768</td>\n",
       "      <td>0.203202</td>\n",
       "      <td>0.231267</td>\n",
       "      <td>2.100000</td>\n",
       "      <td>2.100000</td>\n",
       "    </tr>\n",
       "  </tbody>\n",
       "</table>\n",
       "</div>"
      ],
      "text/plain": [
       "       rb_lower_br  rb_battles_sum  rb_battles_mean  rb_win_rate  \\\n",
       "count        226.0      226.000000       226.000000   226.000000   \n",
       "mean          11.3    39563.769912      9110.399351     0.593383   \n",
       "std            0.0    12322.147442      5149.271591     0.062575   \n",
       "min           11.3    19216.000000      3628.551268     0.452611   \n",
       "25%           11.3    30456.750000      5574.496767     0.547371   \n",
       "50%           11.3    37674.000000      7951.919886     0.600942   \n",
       "75%           11.3    48872.250000     10080.592002     0.632339   \n",
       "max           11.3    71790.000000     27207.000000     0.726768   \n",
       "\n",
       "       rb_air_frags_per_battle  rb_air_frags_per_death  \\\n",
       "count               226.000000              226.000000   \n",
       "mean                  0.123114                0.136984   \n",
       "std                   0.051883                0.059230   \n",
       "min                   0.000000                0.000000   \n",
       "25%                   0.124985                0.134041   \n",
       "50%                   0.136839                0.153554   \n",
       "75%                   0.149053                0.163959   \n",
       "max                   0.203202                0.231267   \n",
       "\n",
       "       rb_ground_frags_per_battle  rb_ground_frags_per_death  \n",
       "count                  226.000000                 226.000000  \n",
       "mean                     1.705683                   1.612007  \n",
       "std                      0.153578                   0.173527  \n",
       "min                      1.431823                   1.301567  \n",
       "25%                      1.614642                   1.502817  \n",
       "50%                      1.692230                   1.592634  \n",
       "75%                      1.765888                   1.670062  \n",
       "max                      2.100000                   2.100000  "
      ]
     },
     "execution_count": 163,
     "metadata": {},
     "output_type": "execute_result"
    }
   ],
   "source": [
    "scale_feature = 'rb_win_rate'\n",
    "\n",
    "\n",
    "#scale features\n",
    "Filtered_df [scale_feature] = [X / 100 for X in Filtered_df[scale_feature]]\n",
    "\n",
    "Filtered_df.describe()"
   ]
  },
  {
   "cell_type": "code",
   "execution_count": 164,
   "metadata": {},
   "outputs": [],
   "source": [
    "Filtered_df.to_csv('../2.Feature Engineering/wrangled_data.csv', index=False)"
   ]
  }
 ],
 "metadata": {
  "kernelspec": {
   "display_name": "Python 3",
   "language": "python",
   "name": "python3"
  },
  "language_info": {
   "codemirror_mode": {
    "name": "ipython",
    "version": 3
   },
   "file_extension": ".py",
   "mimetype": "text/x-python",
   "name": "python",
   "nbconvert_exporter": "python",
   "pygments_lexer": "ipython3",
   "version": "3.12.1"
  }
 },
 "nbformat": 4,
 "nbformat_minor": 2
}
