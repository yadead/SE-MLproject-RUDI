{
 "cells": [
  {
   "cell_type": "code",
   "execution_count": null,
   "metadata": {},
   "outputs": [],
   "source": [
    "import numpy as np\n",
    "import pandas as pd\n",
    "import matplotlib.pyplot as plt"
   ]
  },
  {
   "cell_type": "code",
   "execution_count": null,
   "metadata": {},
   "outputs": [],
   "source": [
    "data_frame = pd.read_csv(\"rb_ranks_1.csv\")\n",
    "\n",
    "\n",
    "Filtered_df = data_frame[\n",
    "(data_frame['nation'] == 'USSR') &\n",
    "(data_frame['rb_lower_br'] == 10.3) &\n",
    "(data_frame['cls'] == \"Ground_vehicles\")\n",
    "]"
   ]
  },
  {
   "cell_type": "code",
   "execution_count": 57,
   "metadata": {},
   "outputs": [
    {
     "name": "stdout",
     "output_type": "stream",
     "text": []
    }
   ],
   "source": [
    "Filtered_df.head()"
   ]
  },
  {
   "cell_type": "code",
   "execution_count": null,
   "metadata": {},
   "outputs": [
    {
     "name": "stdout",
     "output_type": "stream",
     "text": []
    }
   ],
   "source": [
    "Filtered_df.info()"
   ]
  },
  {
   "cell_type": "code",
   "execution_count": 59,
   "metadata": {},
   "outputs": [
    {
     "name": "stdout",
     "output_type": "stream",
     "text": []
    }
   ],
   "source": [
    "Filtered_df.describe()"
   ]
  },
  {
   "cell_type": "code",
   "execution_count": 60,
   "metadata": {},
   "outputs": [
    {
     "name": "stdout",
     "output_type": "stream",
     "text": []
    },
    {
     "name": "stdout",
     "output_type": "stream",
     "text": []
    }
   ],
   "source": [
    "Filtered_df.plot()"
   ]
  },
  {
   "cell_type": "code",
   "execution_count": 61,
   "metadata": {},
   "outputs": [
    {
     "name": "stdout",
     "output_type": "stream",
     "text": []
    }
   ],
   "source": [
    "plt.hist(Filtered_df['rb_win_rate'])\n",
    "plt.title(f\"Histogram of {Filtered_df['rb_win_rate'].name}\")\n",
    "plt.ylabel('Count')\n",
    "plt.xlabel(f'{Filtered_df[\"rb_win_rate\"].name}')\n",
    "plt.show()"
   ]
  },
  {
   "cell_type": "code",
   "execution_count": 62,
   "metadata": {},
   "outputs": [
    {
     "name": "stdout",
     "output_type": "stream",
     "text": []
    }
   ],
   "source": [
    "plt.scatter(Filtered_df['rb_lower_br'], Filtered_df['rb_ground_frags_per_battle'])\n",
    "plt.title(f\"Scatter of {Filtered_df['rb_lower_br'].name} against {Filtered_df['rb_ground_frags_per_battle'].name}\")\n",
    "plt.ylabel(f'{Filtered_df['rb_ground_frags_per_battle'].name} Data')\n",
    "plt.xlabel(f'{Filtered_df['rb_lower_br'].name} Data')\n",
    "plt.show()"
   ]
  },
  {
   "cell_type": "code",
   "execution_count": null,
   "metadata": {},
   "outputs": [],
   "source": []
  },
  {
   "cell_type": "code",
   "execution_count": 63,
   "metadata": {},
   "outputs": [
    {
     "name": "stdout",
     "output_type": "stream",
     "text": []
    },
    {
     "name": "stdout",
     "output_type": "stream",
     "text": []
    }
   ],
   "source": [
    "Filtered_df['date'] = pd.to_datetime(Filtered_df['date'])\n",
    "Filtered_df['month'] = Filtered_df['date'].dt.month\n",
    "\n",
    "plt.scatter(Filtered_df['month'], Filtered_df['rb_win_rate'])\n",
    "plt.title(f\"Scatter of Month against {Filtered_df['rb_win_rate'].name}\")\n",
    "plt.ylabel(f'{Filtered_df['rb_win_rate'].name} Data')\n",
    "plt.xlabel('Month')\n",
    "plt.show()"
   ]
  },
  {
   "cell_type": "code",
   "execution_count": null,
   "metadata": {},
   "outputs": [
    {
     "name": "stdout",
     "output_type": "stream",
     "text": []
    }
   ],
   "source": [
    "Filtered_df['date'] = pd.to_datetime(Filtered_df['date'])\n",
    "\n",
    "start_date = pd.Timestamp('2020-01-01')\n",
    "Filtered_df = Filtered_df[Filtered_df['date'] >= start_date]\n",
    "\n",
    "Filtered_df['month_year'] = Filtered_df['date'].dt.to_period('M')\n",
    "\n",
    "plt.figure(figsize=(12, 6))\n",
    "plt.scatter(Filtered_df['month_year'].astype(str), Filtered_df['rb_win_rate'])\n",
    "plt.title(f\"Scatter of Month-Year against {Filtered_df['rb_win_rate'].name}\")\n",
    "plt.ylabel(f'{Filtered_df['rb_win_rate'].name} Data')\n",
    "plt.xlabel('Month-Year')\n",
    "plt.xticks(rotation=45)\n",
    "plt.show()"
   ]
  }
 ],
 "metadata": {
  "kernelspec": {
   "display_name": "Python 3",
   "language": "python",
   "name": "python3"
  },
  "language_info": {
   "codemirror_mode": {
    "name": "ipython",
    "version": 3
   },
   "file_extension": ".py",
   "mimetype": "text/x-python",
   "name": "python",
   "nbconvert_exporter": "python",
   "pygments_lexer": "ipython3",
   "version": "3.12.1"
  }
 },
 "nbformat": 4,
 "nbformat_minor": 2
}
